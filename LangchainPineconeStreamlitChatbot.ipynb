{
 "cells": [
  {
   "cell_type": "code",
   "execution_count": 1,
   "metadata": {},
   "outputs": [],
   "source": [
    "import os, openai\n",
    "from config import apikey, pinecone_apikey"
   ]
  },
  {
   "cell_type": "code",
   "execution_count": 2,
   "metadata": {},
   "outputs": [
    {
     "data": {
      "text/plain": [
       "2"
      ]
     },
     "execution_count": 2,
     "metadata": {},
     "output_type": "execute_result"
    }
   ],
   "source": [
    "from langchain.document_loaders import DirectoryLoader\n",
    "\n",
    "directory = \"/Users/dipit/ChatGPT/LangChain_Streamlit/Files\"\n",
    "\n",
    "def load_docs(directory):\n",
    "    loader = DirectoryLoader(directory)\n",
    "    documents = loader.load()\n",
    "    return documents\n",
    "documents = load_docs(directory)\n",
    "len(documents)"
   ]
  },
  {
   "cell_type": "code",
   "execution_count": 3,
   "metadata": {},
   "outputs": [
    {
     "data": {
      "text/plain": [
       "13"
      ]
     },
     "execution_count": 3,
     "metadata": {},
     "output_type": "execute_result"
    }
   ],
   "source": [
    "from langchain.text_splitter import RecursiveCharacterTextSplitter\n",
    "\n",
    "def split_docs(documents, chunk_size = 1000, chunk_overlap = 20):\n",
    "    text_splitter = RecursiveCharacterTextSplitter(chunk_size = chunk_size, \n",
    "                                                   chunk_overlap = chunk_overlap)\n",
    "    docs = text_splitter.split_documents(documents)\n",
    "    return docs\n",
    "docs = split_docs(documents)\n",
    "len(docs)"
   ]
  },
  {
   "cell_type": "code",
   "execution_count": 4,
   "metadata": {},
   "outputs": [
    {
     "data": {
      "text/plain": [
       "'What are reasons behind gastric trouble or formation of gases in stomach?\\n\\nThere can be several reasons behind gastric trouble or the formation of gases in the stomach. Some of the common causes include:\\n\\n1. Poor diet: Consuming foods that are difficult to digest, such as fatty or processed foods, can lead to gastric trouble.\\n\\n2. Overeating: Eating large meals or eating too quickly can cause the stomach to produce excess gas.\\n\\n3. Food intolerances: Some individuals may have difficulty digesting certain types of foods, such as lactose or gluten, leading to the formation of gas.\\n\\n4. Swallowed air: Eating or drinking too quickly, chewing gum, smoking, or using straws can cause excess air to be swallowed, leading to gas in the stomach.\\n\\n5. Gastrointestinal disorders: Conditions like irritable bowel syndrome (IBS), inflammatory bowel disease (IBD), or gastroesophageal reflux disease (GERD) can cause gastric trouble and gas formation.'"
      ]
     },
     "execution_count": 4,
     "metadata": {},
     "output_type": "execute_result"
    }
   ],
   "source": [
    "docs[0].page_content"
   ]
  },
  {
   "cell_type": "code",
   "execution_count": 5,
   "metadata": {},
   "outputs": [
    {
     "name": "stderr",
     "output_type": "stream",
     "text": [
      "/Users/dipit/anaconda3/envs/gpt/lib/python3.10/site-packages/langchain/embeddings/openai.py:214: UserWarning: WARNING! model_name is not default parameter.\n",
      "                    model_name was transferred to model_kwargs.\n",
      "                    Please confirm that model_name is what you intended.\n",
      "  warnings.warn(\n"
     ]
    },
    {
     "data": {
      "text/plain": [
       "1536"
      ]
     },
     "execution_count": 5,
     "metadata": {},
     "output_type": "execute_result"
    }
   ],
   "source": [
    "from langchain.embeddings.openai import OpenAIEmbeddings\n",
    "embeddings = OpenAIEmbeddings(\n",
    "    model_name = \"ada\", openai_api_key=apikey\n",
    ")\n",
    "query_result = embeddings.embed_query(\"Hello World\")\n",
    "len(query_result)"
   ]
  },
  {
   "cell_type": "code",
   "execution_count": 6,
   "metadata": {},
   "outputs": [
    {
     "name": "stderr",
     "output_type": "stream",
     "text": [
      "/Users/dipit/anaconda3/envs/gpt/lib/python3.10/site-packages/pinecone/index.py:4: TqdmExperimentalWarning: Using `tqdm.autonotebook.tqdm` in notebook mode. Use `tqdm.tqdm` instead to force console mode (e.g. in jupyter console)\n",
      "  from tqdm.autonotebook import tqdm\n"
     ]
    }
   ],
   "source": [
    "import pinecone\n",
    "from langchain.vectorstores import Pinecone\n",
    "\n",
    "pinecone.init(\n",
    "    api_key=pinecone_apikey,\n",
    "    environment='us-west1-gcp-free'\n",
    ")\n",
    "index = 'chatbot'\n",
    "index = Pinecone.from_documents(docs, embeddings, index_name = index)"
   ]
  },
  {
   "cell_type": "code",
   "execution_count": 7,
   "metadata": {},
   "outputs": [
    {
     "name": "stdout",
     "output_type": "stream",
     "text": [
      "[(Document(page_content='What are reasons behind gastric trouble or formation of gases in stomach?\\n\\nThere can be several reasons behind gastric trouble or the formation of gases in the stomach. Some of the common causes include:\\n\\n1. Poor diet: Consuming foods that are difficult to digest, such as fatty or processed foods, can lead to gastric trouble.\\n\\n2. Overeating: Eating large meals or eating too quickly can cause the stomach to produce excess gas.\\n\\n3. Food intolerances: Some individuals may have difficulty digesting certain types of foods, such as lactose or gluten, leading to the formation of gas.\\n\\n4. Swallowed air: Eating or drinking too quickly, chewing gum, smoking, or using straws can cause excess air to be swallowed, leading to gas in the stomach.\\n\\n5. Gastrointestinal disorders: Conditions like irritable bowel syndrome (IBS), inflammatory bowel disease (IBD), or gastroesophageal reflux disease (GERD) can cause gastric trouble and gas formation.', metadata={'source': '/Users/dipit/ChatGPT/LangChain_Streamlit/Files/Gastric Trouble Causes and homeopathic treatment.pdf'}), 0.827707589)]\n"
     ]
    }
   ],
   "source": [
    "def get_similar_docs(query, k=1, score=False):\n",
    "    if score:\n",
    "        similar_docs = index.similarity_search_with_score(query, k=k)\n",
    "    else:\n",
    "        similar_docs = index.similarity_search(query, k=k)\n",
    "    return similar_docs\n",
    "\n",
    "query = \"overeating cause gastric trouble\"\n",
    "print(get_similar_docs(query, score=True))"
   ]
  },
  {
   "cell_type": "code",
   "execution_count": 8,
   "metadata": {},
   "outputs": [
    {
     "name": "stderr",
     "output_type": "stream",
     "text": [
      "/Users/dipit/anaconda3/envs/gpt/lib/python3.10/site-packages/langchain/llms/openai.py:200: UserWarning: You are trying to use a chat model. This way of initializing it is no longer supported. Instead, please use: `from langchain.chat_models import ChatOpenAI`\n",
      "  warnings.warn(\n",
      "/Users/dipit/anaconda3/envs/gpt/lib/python3.10/site-packages/langchain/llms/openai.py:801: UserWarning: You are trying to use a chat model. This way of initializing it is no longer supported. Instead, please use: `from langchain.chat_models import ChatOpenAI`\n",
      "  warnings.warn(\n"
     ]
    }
   ],
   "source": [
    "from langchain.llms import OpenAI\n",
    "model_name = 'gpt-3.5-turbo'\n",
    "llm = OpenAI(model_name = model_name, openai_api_key=apikey)"
   ]
  },
  {
   "cell_type": "code",
   "execution_count": 9,
   "metadata": {},
   "outputs": [
    {
     "data": {
      "text/plain": [
       "'Poor diet is one of the reasons for gastric troubles.'"
      ]
     },
     "execution_count": 9,
     "metadata": {},
     "output_type": "execute_result"
    }
   ],
   "source": [
    "from langchain.chains.question_answering import load_qa_chain\n",
    "\n",
    "chain = load_qa_chain(llm, chain_type=\"stuff\")\n",
    "\n",
    "def get_answer(query):\n",
    "    similar_docs = get_similar_docs(query)\n",
    "    answer = chain.run(input_documents = similar_docs, question=query)\n",
    "    return answer\n",
    "\n",
    "query = \"One of the reasons for gastric troubles\"\n",
    "get_answer(query)"
   ]
  },
  {
   "cell_type": "code",
   "execution_count": 10,
   "metadata": {},
   "outputs": [
    {
     "name": "stdout",
     "output_type": "stream",
     "text": [
      "Carbo vegetabilis, Lycopodium, Nux vomica, and China officinalis are commonly used homeopathic remedies for relieving various gastric troubles such as bloating, belching, flatulence, and abdominal discomfort.\n"
     ]
    }
   ],
   "source": [
    "query = \"Homeopathic medicines for curing gastric troubles\"\n",
    "print(get_answer(query))"
   ]
  },
  {
   "cell_type": "code",
   "execution_count": null,
   "metadata": {},
   "outputs": [],
   "source": []
  },
  {
   "cell_type": "code",
   "execution_count": null,
   "metadata": {},
   "outputs": [],
   "source": []
  },
  {
   "cell_type": "code",
   "execution_count": null,
   "metadata": {},
   "outputs": [],
   "source": []
  },
  {
   "cell_type": "code",
   "execution_count": null,
   "metadata": {},
   "outputs": [],
   "source": []
  },
  {
   "cell_type": "code",
   "execution_count": null,
   "metadata": {},
   "outputs": [],
   "source": []
  },
  {
   "cell_type": "code",
   "execution_count": null,
   "metadata": {},
   "outputs": [],
   "source": []
  },
  {
   "cell_type": "code",
   "execution_count": null,
   "metadata": {},
   "outputs": [],
   "source": []
  }
 ],
 "metadata": {
  "kernelspec": {
   "display_name": "gpt",
   "language": "python",
   "name": "python3"
  },
  "language_info": {
   "codemirror_mode": {
    "name": "ipython",
    "version": 3
   },
   "file_extension": ".py",
   "mimetype": "text/x-python",
   "name": "python",
   "nbconvert_exporter": "python",
   "pygments_lexer": "ipython3",
   "version": "3.10.11"
  },
  "orig_nbformat": 4
 },
 "nbformat": 4,
 "nbformat_minor": 2
}
